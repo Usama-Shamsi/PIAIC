{
  "nbformat": 4,
  "nbformat_minor": 0,
  "metadata": {
    "colab": {
      "provenance": [],
      "toc_visible": true
    },
    "kernelspec": {
      "name": "python3",
      "display_name": "Python 3"
    },
    "language_info": {
      "name": "python"
    }
  },
  "cells": [
    {
      "cell_type": "markdown",
      "source": [
        "**Question 1**"
      ],
      "metadata": {
        "id": "y7EVZy3aLD7c"
      }
    },
    {
      "cell_type": "code",
      "execution_count": 6,
      "metadata": {
        "colab": {
          "base_uri": "https://localhost:8080/"
        },
        "id": "u35cEw17f711",
        "outputId": "b60856d8-5b34-47c3-8cdc-d9c4b944bff9"
      },
      "outputs": [
        {
          "output_type": "stream",
          "name": "stdout",
          "text": [
            "2002,2009,2016,2023,2037,2044,2051,2058,2072,2079,2086,2093,2107,2114,2121,2128,2142,2149,2156,2163,2177,2184,2191,2198,2212,2219,2226,2233,2247,2254,2261,2268,2282,2289,2296,2303,2317,2324,2331,2338,2352,2359,2366,2373,2387,2394,2401,2408,2422,2429,2436,2443,2457,2464,2471,2478,2492,2499,2506,2513,2527,2534,2541,2548,2562,2569,2576,2583,2597,2604,2611,2618,2632,2639,2646,2653,2667,2674,2681,2688,2702,2709,2716,2723,2737,2744,2751,2758,2772,2779,2786,2793,2807,2814,2821,2828,2842,2849,2856,2863,2877,2884,2891,2898,2912,2919,2926,2933,2947,2954,2961,2968,2982,2989,2996,3003,3017,3024,3031,3038,3052,3059,3066,3073,3087,3094,3101,3108,3122,3129,3136,3143,3157,3164,3171,3178,3192,3199,"
          ]
        }
      ],
      "source": [
        "for i in range(2000, 3201):\n",
        "  if(i % 7 == 0 and i % 5 != 0 ):\n",
        "    print(i, end=\",\")\n"
      ]
    },
    {
      "cell_type": "markdown",
      "source": [
        "**Question 2**"
      ],
      "metadata": {
        "id": "NTbm30fmLLN1"
      }
    },
    {
      "cell_type": "code",
      "source": [
        "x = int(input(\"Enter a number to find Factorial: \"))\n",
        "y = 1\n",
        "for i in range(1,x):\n",
        "  y = y * x\n",
        "  x = x - 1\n",
        "print(\"Factorial is:\",y)"
      ],
      "metadata": {
        "colab": {
          "base_uri": "https://localhost:8080/"
        },
        "id": "qwIwur98ErP3",
        "outputId": "b748c297-cd29-46ea-8940-a57921b948d0"
      },
      "execution_count": 5,
      "outputs": [
        {
          "output_type": "stream",
          "name": "stdout",
          "text": [
            "Enter a number to find Factorial: 8\n",
            "Factorial is: 40320\n"
          ]
        }
      ]
    },
    {
      "cell_type": "markdown",
      "source": [
        "**Question 3**"
      ],
      "metadata": {
        "id": "hmSkkAacLc9-"
      }
    },
    {
      "cell_type": "code",
      "source": [
        "x = int(input(\"Enter a number: \"))\n",
        "squares = dict()\n",
        "for i in range(1, x):\n",
        "    squares[i] = i * i\n",
        "print(squares)\n"
      ],
      "metadata": {
        "colab": {
          "base_uri": "https://localhost:8080/"
        },
        "id": "tX_2WNNUiIY7",
        "outputId": "36d4276a-33fb-4244-96ab-fbc50d68a852"
      },
      "execution_count": 5,
      "outputs": [
        {
          "output_type": "stream",
          "name": "stdout",
          "text": [
            "Enter a number: 7\n",
            "{1: 1, 2: 4, 3: 9, 4: 16, 5: 25, 6: 36}\n"
          ]
        }
      ]
    },
    {
      "cell_type": "markdown",
      "source": [
        "**Question 4**"
      ],
      "metadata": {
        "id": "MaciOSPMN95A"
      }
    },
    {
      "cell_type": "code",
      "source": [
        "values = input(\"Enter numbers in the form of String: \")\n",
        "list = values.split(\",\")\n",
        "tup = tuple(list)\n",
        "print(list)\n",
        "print(tup)\n"
      ],
      "metadata": {
        "colab": {
          "base_uri": "https://localhost:8080/"
        },
        "id": "-oD-fWF9MGa4",
        "outputId": "42331667-87fb-48ae-ca89-095fb7d01be7"
      },
      "execution_count": 5,
      "outputs": [
        {
          "output_type": "stream",
          "name": "stdout",
          "text": [
            "Enter numbers in the form of String: 2,3,55,43,98,89\n",
            "['2', '3', '55', '43', '98', '89']\n",
            "('2', '3', '55', '43', '98', '89')\n"
          ]
        }
      ]
    },
    {
      "cell_type": "markdown",
      "source": [
        "Question **12**"
      ],
      "metadata": {
        "id": "OSfz5RXOK7FL"
      }
    },
    {
      "cell_type": "code",
      "source": [
        "even = []\n",
        "for i in range(1000, 3001):\n",
        "    k = i\n",
        "    flag = True\n",
        "    for _ in range(4):\n",
        "        if k % 2 != 0:\n",
        "            flag = False\n",
        "            break\n",
        "        k = k // 10\n",
        "    if flag:\n",
        "        even.append(str(i))\n",
        "\n",
        "print(\",\".join(even))\n"
      ],
      "metadata": {
        "colab": {
          "base_uri": "https://localhost:8080/"
        },
        "id": "KF90x5PVGlDq",
        "outputId": "fc3a2844-59b3-45b2-d438-5b58c46e1358"
      },
      "execution_count": 11,
      "outputs": [
        {
          "output_type": "stream",
          "name": "stdout",
          "text": [
            "2000,2002,2004,2006,2008,2020,2022,2024,2026,2028,2040,2042,2044,2046,2048,2060,2062,2064,2066,2068,2080,2082,2084,2086,2088,2200,2202,2204,2206,2208,2220,2222,2224,2226,2228,2240,2242,2244,2246,2248,2260,2262,2264,2266,2268,2280,2282,2284,2286,2288,2400,2402,2404,2406,2408,2420,2422,2424,2426,2428,2440,2442,2444,2446,2448,2460,2462,2464,2466,2468,2480,2482,2484,2486,2488,2600,2602,2604,2606,2608,2620,2622,2624,2626,2628,2640,2642,2644,2646,2648,2660,2662,2664,2666,2668,2680,2682,2684,2686,2688,2800,2802,2804,2806,2808,2820,2822,2824,2826,2828,2840,2842,2844,2846,2848,2860,2862,2864,2866,2868,2880,2882,2884,2886,2888\n"
          ]
        }
      ]
    },
    {
      "cell_type": "markdown",
      "source": [],
      "metadata": {
        "id": "j9Bwnw0uNBuC"
      }
    }
  ]
}